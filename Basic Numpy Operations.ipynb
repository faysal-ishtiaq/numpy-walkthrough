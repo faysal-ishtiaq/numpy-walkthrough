{
 "cells": [
  {
   "cell_type": "markdown",
   "metadata": {},
   "source": [
    "# Basic Numpy Operations\n"
   ]
  },
  {
   "cell_type": "code",
   "execution_count": 5,
   "metadata": {
    "collapsed": false
   },
   "outputs": [
    {
     "name": "stdout",
     "output_type": "stream",
     "text": [
      "a:\n",
      " [20 21 22 23 24 25 26 27 28 29] \n",
      "b:\n",
      " [10 11 12 13 14 15 16 17 18 19]\n",
      "a - b:\n",
      " [10 10 10 10 10 10 10 10 10 10]\n",
      "b**2:\n",
      " [100 121 144 169 196 225 256 289 324 361]\n",
      "d:\n",
      " [ 9.12945251  8.36655639 -0.08851309 -8.46220404 -9.05578362 -1.3235175\n",
      "  7.6255845   9.56375928  2.70905788 -6.63633884]\n",
      "[ True  True  True  True  True False False False False False]\n"
     ]
    }
   ],
   "source": [
    "import numpy as np\n",
    "\n",
    "a = np.arange(20, 30)\n",
    "b = np.arange(10, 20)\n",
    "print(\"a:\\n\", a, \"\\nb:\\n\", b)\n",
    "c = a-b\n",
    "print(\"a - b:\\n\", c)\n",
    "\n",
    "print(\"b**2:\\n\", b**2)\n",
    "\n",
    "d = 10 * np.sin(a)\n",
    "print(\"d:\\n\", d)\n",
    "\n",
    "print(a < 25)"
   ]
  },
  {
   "cell_type": "code",
   "execution_count": null,
   "metadata": {
    "collapsed": true
   },
   "outputs": [],
   "source": []
  }
 ],
 "metadata": {
  "kernelspec": {
   "display_name": "Python 3",
   "language": "python",
   "name": "python3"
  },
  "language_info": {
   "codemirror_mode": {
    "name": "ipython",
    "version": 3
   },
   "file_extension": ".py",
   "mimetype": "text/x-python",
   "name": "python",
   "nbconvert_exporter": "python",
   "pygments_lexer": "ipython3",
   "version": "3.6.0"
  }
 },
 "nbformat": 4,
 "nbformat_minor": 2
}
